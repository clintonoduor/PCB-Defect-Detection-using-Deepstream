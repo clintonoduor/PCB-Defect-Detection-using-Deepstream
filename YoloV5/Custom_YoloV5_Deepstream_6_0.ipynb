{
 "cells": [
  {
   "cell_type": "markdown",
   "metadata": {
    "id": "7mGmQbAO5pQb"
   },
   "source": [
    "#Install Dependencies\n",
    "\n",
    "_(Remember to choose GPU in Runtime if not already selected. Runtime --> Change Runtime Type --> Hardware accelerator --> GPU)_"
   ]
  },
  {
   "cell_type": "code",
   "execution_count": null,
   "metadata": {
    "colab": {
     "base_uri": "https://localhost:8080/"
    },
    "id": "Ie5uLDH4uzAp",
    "outputId": "8513e8d5-a021-4490-bec1-e632cee41a41"
   },
   "outputs": [
    {
     "name": "stdout",
     "output_type": "stream",
     "text": [
      "fatal: destination path 'yolov5' already exists and is not an empty directory.\n",
      "/content/yolov5\n",
      "HEAD is now at 886f1c0 DDP after autoanchor reorder (#2421)\n"
     ]
    }
   ],
   "source": [
    "# clone YOLOv5 repository\n",
    "!git clone https://github.com/ultralytics/yolov5  # clone repo\n",
    "%cd yolov5\n",
    "!git reset --hard 886f1c03d839575afecb059accf74296fad395b6"
   ]
  },
  {
   "cell_type": "code",
   "execution_count": null,
   "metadata": {
    "colab": {
     "base_uri": "https://localhost:8080/"
    },
    "id": "3T4WC309z8dO",
    "outputId": "bf8f5278-532d-43f1-c464-ff9470379d95"
   },
   "outputs": [
    {
     "name": "stdout",
     "output_type": "stream",
     "text": [
      "Drive already mounted at /content/drive; to attempt to forcibly remount, call drive.mount(\"/content/drive\", force_remount=True).\n"
     ]
    }
   ],
   "source": [
    "from google.colab import drive\n",
    "drive.mount('/content/drive')"
   ]
  },
  {
   "cell_type": "code",
   "execution_count": null,
   "metadata": {
    "colab": {
     "base_uri": "https://localhost:8080/"
    },
    "id": "wbvMlHd_QwMG",
    "outputId": "c8d9173c-e3f0-463d-c994-08764a56608b"
   },
   "outputs": [
    {
     "name": "stdout",
     "output_type": "stream",
     "text": [
      "Setup complete. Using torch 1.10.0+cu111 _CudaDeviceProperties(name='Tesla K80', major=3, minor=7, total_memory=11441MB, multi_processor_count=13)\n"
     ]
    }
   ],
   "source": [
    "# install dependencies as necessary\n",
    "!pip install -qr requirements.txt  # install dependencies (ignore errors)\n",
    "import torch\n",
    "\n",
    "from IPython.display import Image, clear_output  # to display images\n",
    "from utils.google_utils import gdrive_download  # to download models/datasets\n",
    "\n",
    "# clear_output()\n",
    "print('Setup complete. Using torch %s %s' % (torch.__version__, torch.cuda.get_device_properties(0) if torch.cuda.is_available() else 'CPU'))"
   ]
  },
  {
   "cell_type": "code",
   "execution_count": null,
   "metadata": {
    "colab": {
     "base_uri": "https://localhost:8080/"
    },
    "id": "Knxi2ncxWffW",
    "outputId": "a41dcd37-574b-423e-c286-bc49e70839a3"
   },
   "outputs": [
    {
     "name": "stdout",
     "output_type": "stream",
     "text": [
      "upload and label your dataset, and get an API KEY here: https://app.roboflow.com/?model=yolov5&ref=roboflow-yolov5\n"
     ]
    }
   ],
   "source": [
    "#follow the link below to get your download code from from Roboflow\n",
    "!pip install -q roboflow\n",
    "from roboflow import Roboflow\n",
    "rf = Roboflow(model_format=\"yolov5\", notebook=\"roboflow-yolov5\")"
   ]
  },
  {
   "cell_type": "code",
   "execution_count": null,
   "metadata": {
    "colab": {
     "base_uri": "https://localhost:8080/"
    },
    "id": "Ug_PhK1oqwQA",
    "outputId": "9565bcf1-b539-47ea-d5c0-aab32d43e409"
   },
   "outputs": [
    {
     "name": "stdout",
     "output_type": "stream",
     "text": [
      "/content/yolov5\n",
      "Requirement already satisfied: roboflow in /usr/local/lib/python3.7/dist-packages (0.2.2)\n",
      "Requirement already satisfied: cycler==0.10.0 in /usr/local/lib/python3.7/dist-packages (from roboflow) (0.10.0)\n",
      "Requirement already satisfied: opencv-python>=4.1.2 in /usr/local/lib/python3.7/dist-packages (from roboflow) (4.1.2.30)\n",
      "Requirement already satisfied: Pillow>=7.1.2 in /usr/local/lib/python3.7/dist-packages (from roboflow) (7.1.2)\n",
      "Requirement already satisfied: pyparsing==2.4.7 in /usr/local/lib/python3.7/dist-packages (from roboflow) (2.4.7)\n",
      "Requirement already satisfied: python-dotenv in /usr/local/lib/python3.7/dist-packages (from roboflow) (0.19.2)\n",
      "Requirement already satisfied: six in /usr/local/lib/python3.7/dist-packages (from roboflow) (1.15.0)\n",
      "Requirement already satisfied: requests in /usr/local/lib/python3.7/dist-packages (from roboflow) (2.27.1)\n",
      "Requirement already satisfied: urllib3==1.26.6 in /usr/local/lib/python3.7/dist-packages (from roboflow) (1.26.6)\n",
      "Requirement already satisfied: wget in /usr/local/lib/python3.7/dist-packages (from roboflow) (3.2)\n",
      "Requirement already satisfied: tqdm>=4.41.0 in /usr/local/lib/python3.7/dist-packages (from roboflow) (4.63.0)\n",
      "Requirement already satisfied: chardet==4.0.0 in /usr/local/lib/python3.7/dist-packages (from roboflow) (4.0.0)\n",
      "Requirement already satisfied: idna==2.10 in /usr/local/lib/python3.7/dist-packages (from roboflow) (2.10)\n",
      "Requirement already satisfied: kiwisolver==1.3.1 in /usr/local/lib/python3.7/dist-packages (from roboflow) (1.3.1)\n",
      "Requirement already satisfied: matplotlib in /usr/local/lib/python3.7/dist-packages (from roboflow) (3.2.2)\n",
      "Requirement already satisfied: PyYAML>=5.3.1 in /usr/local/lib/python3.7/dist-packages (from roboflow) (6.0)\n",
      "Requirement already satisfied: numpy>=1.18.5 in /usr/local/lib/python3.7/dist-packages (from roboflow) (1.21.5)\n",
      "Requirement already satisfied: certifi==2021.5.30 in /usr/local/lib/python3.7/dist-packages (from roboflow) (2021.5.30)\n",
      "Requirement already satisfied: python-dateutil in /usr/local/lib/python3.7/dist-packages (from roboflow) (2.8.2)\n",
      "Requirement already satisfied: charset-normalizer~=2.0.0 in /usr/local/lib/python3.7/dist-packages (from requests->roboflow) (2.0.12)\n",
      "loading Roboflow workspace...\n",
      "loading Roboflow project...\n",
      "Downloading Dataset Version Zip in PCB-Defect-YoloV5-Deepstream-6.0-2 to yolov5pytorch: 100% [20963227 / 20963227] bytes\n"
     ]
    },
    {
     "name": "stderr",
     "output_type": "stream",
     "text": [
      "Extracting Dataset Version Zip to PCB-Defect-YoloV5-Deepstream-6.0-2 in yolov5pytorch:: 100%|██████████| 1398/1398 [00:01<00:00, 751.34it/s]\n"
     ]
    }
   ],
   "source": [
    "%cd /content/yolov5\n",
    "\n",
    "!pip install roboflow\n",
    "\n",
    "from roboflow import Roboflow\n",
    "rf = Roboflow(api_key=\"UexS2wDYgkC64r7Zdy4X\")\n",
    "project = rf.workspace(\"new-workspace-cfyg7\").project(\"pcb-defect-yolov5-deepstream-6.0\")\n",
    "dataset = project.version(2).download(\"yolov5\")\n",
    "#after following the link above, recieve python code with these fields filled in\n",
    "#from roboflow import Roboflow\n",
    "#rf = Roboflow(api_key=\"YOUR API KEY HERE\")\n",
    "#project = rf.workspace().project(\"YOUR PROJECT\")\n",
    "#dataset = project.version(\"YOUR VERSION\").download(\"yolov5\")"
   ]
  },
  {
   "cell_type": "code",
   "execution_count": null,
   "metadata": {
    "colab": {
     "base_uri": "https://localhost:8080/"
    },
    "id": "ZZ3DmmGQztJj",
    "outputId": "342a7930-ebc4-4e06-ec25-e133ff8ddae7"
   },
   "outputs": [
    {
     "name": "stdout",
     "output_type": "stream",
     "text": [
      "names:\n",
      "- missing_hole\n",
      "- mouse_bite\n",
      "- open_circuit\n",
      "- short\n",
      "- spur\n",
      "- spurious_copper\n",
      "nc: 6\n",
      "train: PCB-Defect-YoloV5-Deepstream-6.0-2/train/images\n",
      "val: PCB-Defect-YoloV5-Deepstream-6.0-2/valid/images\n"
     ]
    }
   ],
   "source": [
    "# this is the YAML file Roboflow wrote for us that we're loading into this notebook with our data\n",
    "%cat {dataset.location}/data.yaml"
   ]
  },
  {
   "cell_type": "markdown",
   "metadata": {
    "id": "UwJx-2NHsYxT"
   },
   "source": [
    "# Define Model Configuration and Architecture\n",
    "\n",
    "We will write a yaml script that defines the parameters for our model like the number of classes, anchors, and each layer.\n",
    "\n",
    "You do not need to edit these cells, but you may."
   ]
  },
  {
   "cell_type": "code",
   "execution_count": null,
   "metadata": {
    "id": "dOPn9wjOAwwK"
   },
   "outputs": [],
   "source": [
    "# define number of classes based on YAML\n",
    "import yaml\n",
    "with open(dataset.location + \"/data.yaml\", 'r') as stream:\n",
    "    num_classes = str(yaml.safe_load(stream)['nc'])"
   ]
  },
  {
   "cell_type": "code",
   "execution_count": null,
   "metadata": {
    "colab": {
     "base_uri": "https://localhost:8080/"
    },
    "id": "1Rvt5wilnDyX",
    "outputId": "e4e76a0b-c59a-4b7d-aec2-1f424c726ed0"
   },
   "outputs": [
    {
     "name": "stdout",
     "output_type": "stream",
     "text": [
      "# parameters\n",
      "nc: 80  # number of classes\n",
      "depth_multiple: 0.33  # model depth multiple\n",
      "width_multiple: 0.50  # layer channel multiple\n",
      "\n",
      "# anchors\n",
      "anchors:\n",
      "  - [10,13, 16,30, 33,23]  # P3/8\n",
      "  - [30,61, 62,45, 59,119]  # P4/16\n",
      "  - [116,90, 156,198, 373,326]  # P5/32\n",
      "\n",
      "# YOLOv5 backbone\n",
      "backbone:\n",
      "  # [from, number, module, args]\n",
      "  [[-1, 1, Focus, [64, 3]],  # 0-P1/2\n",
      "   [-1, 1, Conv, [128, 3, 2]],  # 1-P2/4\n",
      "   [-1, 3, C3, [128]],\n",
      "   [-1, 1, Conv, [256, 3, 2]],  # 3-P3/8\n",
      "   [-1, 9, C3, [256]],\n",
      "   [-1, 1, Conv, [512, 3, 2]],  # 5-P4/16\n",
      "   [-1, 9, C3, [512]],\n",
      "   [-1, 1, Conv, [1024, 3, 2]],  # 7-P5/32\n",
      "   [-1, 1, SPP, [1024, [5, 9, 13]]],\n",
      "   [-1, 3, C3, [1024, False]],  # 9\n",
      "  ]\n",
      "\n",
      "# YOLOv5 head\n",
      "head:\n",
      "  [[-1, 1, Conv, [512, 1, 1]],\n",
      "   [-1, 1, nn.Upsample, [None, 2, 'nearest']],\n",
      "   [[-1, 6], 1, Concat, [1]],  # cat backbone P4\n",
      "   [-1, 3, C3, [512, False]],  # 13\n",
      "\n",
      "   [-1, 1, Conv, [256, 1, 1]],\n",
      "   [-1, 1, nn.Upsample, [None, 2, 'nearest']],\n",
      "   [[-1, 4], 1, Concat, [1]],  # cat backbone P3\n",
      "   [-1, 3, C3, [256, False]],  # 17 (P3/8-small)\n",
      "\n",
      "   [-1, 1, Conv, [256, 3, 2]],\n",
      "   [[-1, 14], 1, Concat, [1]],  # cat head P4\n",
      "   [-1, 3, C3, [512, False]],  # 20 (P4/16-medium)\n",
      "\n",
      "   [-1, 1, Conv, [512, 3, 2]],\n",
      "   [[-1, 10], 1, Concat, [1]],  # cat head P5\n",
      "   [-1, 3, C3, [1024, False]],  # 23 (P5/32-large)\n",
      "\n",
      "   [[17, 20, 23], 1, Detect, [nc, anchors]],  # Detect(P3, P4, P5)\n",
      "  ]\n"
     ]
    }
   ],
   "source": [
    "#this is the model configuration we will use for our tutorial \n",
    "%cat /content/yolov5/models/yolov5s.yaml"
   ]
  },
  {
   "cell_type": "code",
   "execution_count": null,
   "metadata": {
    "id": "t14hhyqdmw6O"
   },
   "outputs": [],
   "source": [
    "#customize iPython writefile so we can write variables\n",
    "from IPython.core.magic import register_line_cell_magic\n",
    "\n",
    "@register_line_cell_magic\n",
    "def writetemplate(line, cell):\n",
    "    with open(line, 'w') as f:\n",
    "        f.write(cell.format(**globals()))"
   ]
  },
  {
   "cell_type": "code",
   "execution_count": null,
   "metadata": {
    "id": "uDxebz13RdRA"
   },
   "outputs": [],
   "source": [
    "%%writetemplate /content/yolov5/models/custom_yolov5s.yaml\n",
    "\n",
    "# parameters\n",
    "nc: {num_classes}  # number of classes\n",
    "depth_multiple: 0.33  # model depth multiple\n",
    "width_multiple: 0.50  # layer channel multiple\n",
    "\n",
    "# anchors\n",
    "anchors:\n",
    "  - [10,13, 16,30, 33,23]  # P3/8\n",
    "  - [30,61, 62,45, 59,119]  # P4/16\n",
    "  - [116,90, 156,198, 373,326]  # P5/32\n",
    "\n",
    "# YOLOv5 backbone\n",
    "backbone:\n",
    "  # [from, number, module, args]\n",
    "  [[-1, 1, Focus, [64, 3]],  # 0-P1/2\n",
    "   [-1, 1, Conv, [128, 3, 2]],  # 1-P2/4\n",
    "   [-1, 3, C3, [128]],\n",
    "   [-1, 1, Conv, [256, 3, 2]],  # 3-P3/8\n",
    "   [-1, 9, C3, [256]],\n",
    "   [-1, 1, Conv, [512, 3, 2]],  # 5-P4/16\n",
    "   [-1, 9, C3, [512]],\n",
    "   [-1, 1, Conv, [1024, 3, 2]],  # 7-P5/32\n",
    "   [-1, 1, SPP, [1024, [5, 9, 13]]],\n",
    "   [-1, 3, C3, [1024, False]],  # 9\n",
    "  ]\n",
    "\n",
    "# YOLOv5 head\n",
    "head:\n",
    "  [[-1, 1, Conv, [512, 1, 1]],\n",
    "   [-1, 1, nn.Upsample, [None, 2, 'nearest']],\n",
    "   [[-1, 6], 1, Concat, [1]],  # cat backbone P4\n",
    "   [-1, 3, C3, [512, False]],  # 13\n",
    "\n",
    "   [-1, 1, Conv, [256, 1, 1]],\n",
    "   [-1, 1, nn.Upsample, [None, 2, 'nearest']],\n",
    "   [[-1, 4], 1, Concat, [1]],  # cat backbone P3\n",
    "   [-1, 3, C3, [256, False]],  # 17 (P3/8-small)\n",
    "\n",
    "   [-1, 1, Conv, [256, 3, 2]],\n",
    "   [[-1, 14], 1, Concat, [1]],  # cat head P4\n",
    "   [-1, 3, C3, [512, False]],  # 20 (P4/16-medium)\n",
    "\n",
    "   [-1, 1, Conv, [512, 3, 2]],\n",
    "   [[-1, 10], 1, Concat, [1]],  # cat head P5\n",
    "   [-1, 3, C3, [1024, False]],  # 23 (P5/32-large)\n",
    "\n",
    "   [[17, 20, 23], 1, Detect, [nc, anchors]],  # Detect(P3, P4, P5)\n",
    "  ]\n"
   ]
  },
  {
   "cell_type": "markdown",
   "metadata": {
    "id": "VUOiNLtMP5aG"
   },
   "source": [
    "# Train Custom YOLOv5 Detector\n",
    "\n",
    "### Next, we'll fire off training!\n",
    "\n",
    "\n",
    "Here, we are able to pass a number of arguments:\n",
    "- **img:** define input image size\n",
    "- **batch:** determine batch size\n",
    "- **epochs:** define the number of training epochs. (Note: often, 3000+ are common here!)\n",
    "- **data:** set the path to our yaml file\n",
    "- **cfg:** specify our model configuration\n",
    "- **weights:** specify a custom path to weights. (Note: you can download weights from the Ultralytics Google Drive [folder](https://drive.google.com/open?id=1Drs_Aiu7xx6S-ix95f9kNsA6ueKRpN2J))\n",
    "- **name:** result names\n",
    "- **nosave:** only save the final checkpoint\n",
    "- **cache:** cache images for faster training"
   ]
  },
  {
   "cell_type": "code",
   "execution_count": null,
   "metadata": {
    "colab": {
     "base_uri": "https://localhost:8080/",
     "height": 1000
    },
    "id": "1NcFxRcFdJ_O",
    "outputId": "1eb57f17-a25a-412f-dbc9-48f2429fcf59"
   },
   "outputs": [
    {
     "name": "stdout",
     "output_type": "stream",
     "text": [
      "/content/yolov5\n",
      "\u001b[34m\u001b[1mgithub: \u001b[0m⚠️ WARNING: code is out of date by 895 commits. Use 'git pull' to update or 'git clone https://github.com/ultralytics/yolov5' to download latest.\n",
      "YOLOv5 v4.0-126-g886f1c0 torch 1.10.0+cu111 CUDA:0 (Tesla K80, 11441.1875MB)\n",
      "\n",
      "Namespace(adam=False, batch_size=16, bucket='', cache_images=True, cfg='./models/custom_yolov5s.yaml', data='/content/yolov5/PCB-Defect-YoloV5-Deepstream-6.0-2/data.yaml', device='', entity=None, epochs=120, evolve=False, exist_ok=False, global_rank=-1, hyp='data/hyp.scratch.yaml', image_weights=False, img_size=[416, 416], linear_lr=False, local_rank=-1, log_artifacts=False, log_imgs=16, multi_scale=False, name='yolov5s_results', noautoanchor=False, nosave=False, notest=False, project='runs/train', quad=False, rect=False, resume=False, save_dir='runs/train/yolov5s_results', single_cls=False, sync_bn=False, total_batch_size=16, weights='', workers=8, world_size=1)\n",
      "\u001b[34m\u001b[1mwandb: \u001b[0mInstall Weights & Biases for YOLOv5 logging with 'pip install wandb' (recommended)\n",
      "Start Tensorboard with \"tensorboard --logdir runs/train\", view at http://localhost:6006/\n",
      "\u001b[34m\u001b[1mhyperparameters: \u001b[0mlr0=0.01, lrf=0.2, momentum=0.937, weight_decay=0.0005, warmup_epochs=3.0, warmup_momentum=0.8, warmup_bias_lr=0.1, box=0.05, cls=0.5, cls_pw=1.0, obj=1.0, obj_pw=1.0, iou_t=0.2, anchor_t=4.0, fl_gamma=0.0, hsv_h=0.015, hsv_s=0.7, hsv_v=0.4, degrees=0.0, translate=0.1, scale=0.5, shear=0.0, perspective=0.0, flipud=0.0, fliplr=0.5, mosaic=1.0, mixup=0.0\n",
      "\n",
      "                 from  n    params  module                                  arguments                     \n",
      "  0                -1  1      3520  models.common.Focus                     [3, 32, 3]                    \n",
      "  1                -1  1     18560  models.common.Conv                      [32, 64, 3, 2]                \n",
      "  2                -1  1     18816  models.common.C3                        [64, 64, 1]                   \n",
      "  3                -1  1     73984  models.common.Conv                      [64, 128, 3, 2]               \n",
      "  4                -1  1    156928  models.common.C3                        [128, 128, 3]                 \n",
      "  5                -1  1    295424  models.common.Conv                      [128, 256, 3, 2]              \n",
      "  6                -1  1    625152  models.common.C3                        [256, 256, 3]                 \n",
      "  7                -1  1   1180672  models.common.Conv                      [256, 512, 3, 2]              \n",
      "  8                -1  1    656896  models.common.SPP                       [512, 512, [5, 9, 13]]        \n",
      "  9                -1  1   1182720  models.common.C3                        [512, 512, 1, False]          \n",
      " 10                -1  1    131584  models.common.Conv                      [512, 256, 1, 1]              \n",
      " 11                -1  1         0  torch.nn.modules.upsampling.Upsample    [None, 2, 'nearest']          \n",
      " 12           [-1, 6]  1         0  models.common.Concat                    [1]                           \n",
      " 13                -1  1    361984  models.common.C3                        [512, 256, 1, False]          \n",
      " 14                -1  1     33024  models.common.Conv                      [256, 128, 1, 1]              \n",
      " 15                -1  1         0  torch.nn.modules.upsampling.Upsample    [None, 2, 'nearest']          \n",
      " 16           [-1, 4]  1         0  models.common.Concat                    [1]                           \n",
      " 17                -1  1     90880  models.common.C3                        [256, 128, 1, False]          \n",
      " 18                -1  1    147712  models.common.Conv                      [128, 128, 3, 2]              \n",
      " 19          [-1, 14]  1         0  models.common.Concat                    [1]                           \n",
      " 20                -1  1    296448  models.common.C3                        [256, 256, 1, False]          \n",
      " 21                -1  1    590336  models.common.Conv                      [256, 256, 3, 2]              \n",
      " 22          [-1, 10]  1         0  models.common.Concat                    [1]                           \n",
      " 23                -1  1   1182720  models.common.C3                        [512, 512, 1, False]          \n",
      " 24      [17, 20, 23]  1     29667  models.yolo.Detect                      [6, [[10, 13, 16, 30, 33, 23], [30, 61, 62, 45, 59, 119], [116, 90, 156, 198, 373, 326]], [128, 256, 512]]\n",
      "/usr/local/lib/python3.7/dist-packages/torch/functional.py:445: UserWarning: torch.meshgrid: in an upcoming release, it will be required to pass the indexing argument. (Triggered internally at  ../aten/src/ATen/native/TensorShape.cpp:2157.)\n",
      "  return _VF.meshgrid(tensors, **kwargs)  # type: ignore[attr-defined]\n",
      "Model Summary: 283 layers, 7077027 parameters, 7077027 gradients, 16.4 GFLOPS\n",
      "\n",
      "Scaled weight_decay = 0.0005\n",
      "Optimizer groups: 62 .bias, 62 conv.weight, 59 other\n",
      "\u001b[34m\u001b[1mtrain: \u001b[0mScanning 'PCB-Defect-YoloV5-Deepstream-6.0-2/train/labels' for images and labels... 485 found, 0 missing, 0 empty, 0 corrupted: 100% 485/485 [00:00<00:00, 1891.62it/s]\n",
      "\u001b[34m\u001b[1mtrain: \u001b[0mNew cache created: PCB-Defect-YoloV5-Deepstream-6.0-2/train/labels.cache\n",
      "\u001b[34m\u001b[1mtrain: \u001b[0mCaching images (0.3GB): 100% 485/485 [00:01<00:00, 447.11it/s]\n",
      "\u001b[34m\u001b[1mval: \u001b[0mScanning 'PCB-Defect-YoloV5-Deepstream-6.0-2/valid/labels' for images and labels... 139 found, 0 missing, 0 empty, 0 corrupted: 100% 139/139 [00:00<00:00, 904.18it/s]\n",
      "\u001b[34m\u001b[1mval: \u001b[0mNew cache created: PCB-Defect-YoloV5-Deepstream-6.0-2/valid/labels.cache\n",
      "\u001b[34m\u001b[1mval: \u001b[0mCaching images (0.1GB): 100% 139/139 [00:00<00:00, 290.61it/s]\n",
      "Plotting labels... \n",
      "\n",
      "\u001b[34m\u001b[1mautoanchor: \u001b[0mAnalyzing anchors... anchors/target = 2.94, Best Possible Recall (BPR) = 1.0000\n",
      "Image sizes 416 train, 416 test\n",
      "Using 2 dataloader workers\n",
      "Logging results to runs/train/yolov5s_results\n",
      "Starting training for 120 epochs...\n",
      "\n",
      "     Epoch   gpu_mem       box       obj       cls     total   targets  img_size\n",
      "     0/119    0.851G   0.08742   0.01784   0.03638    0.1416        26       416: 100% 31/31 [00:18<00:00,  1.70it/s]\n",
      "               Class      Images     Targets           P           R      mAP@.5  mAP@.5:.95: 100% 5/5 [00:04<00:00,  1.13it/s]\n",
      "                 all         139           0           0           0           0           0\n",
      "\n",
      "     Epoch   gpu_mem       box       obj       cls     total   targets  img_size\n",
      "     1/119     1.69G   0.08774   0.01832   0.03696     0.143        31       416: 100% 31/31 [00:13<00:00,  2.32it/s]\n",
      "               Class      Images     Targets           P           R      mAP@.5  mAP@.5:.95: 100% 5/5 [00:01<00:00,  2.55it/s]\n",
      "                 all         139           0           0           0           0           0\n",
      "\n",
      "     Epoch   gpu_mem       box       obj       cls     total   targets  img_size\n",
      "     2/119      1.7G   0.08554   0.01719    0.0362    0.1389        26       416: 100% 31/31 [00:13<00:00,  2.30it/s]\n",
      "               Class      Images     Targets           P           R      mAP@.5  mAP@.5:.95: 100% 5/5 [00:01<00:00,  2.58it/s]\n",
      "                 all         139           0           0           0           0           0\n",
      "\n",
      "     Epoch   gpu_mem       box       obj       cls     total   targets  img_size\n",
      "     3/119      1.7G   0.08678   0.01746   0.03683    0.1411        32       416: 100% 31/31 [00:13<00:00,  2.29it/s]\n",
      "               Class      Images     Targets           P           R      mAP@.5  mAP@.5:.95: 100% 5/5 [00:01<00:00,  2.94it/s]\n",
      "                 all         139           0           0           0           0           0\n",
      "\n",
      "     Epoch   gpu_mem       box       obj       cls     total   targets  img_size\n",
      "     4/119      1.7G   0.08419   0.01686    0.0356    0.1366        35       416: 100% 31/31 [00:13<00:00,  2.31it/s]\n",
      "               Class      Images     Targets           P           R      mAP@.5  mAP@.5:.95: 100% 5/5 [00:01<00:00,  3.01it/s]\n",
      "                 all         139           0           0           0           0           0\n",
      "\n",
      "     Epoch   gpu_mem       box       obj       cls     total   targets  img_size\n",
      "     5/119      1.7G   0.08232   0.01636   0.03459    0.1333        20       416: 100% 31/31 [00:13<00:00,  2.37it/s]\n",
      "               Class      Images     Targets           P           R      mAP@.5  mAP@.5:.95: 100% 5/5 [00:01<00:00,  2.98it/s]\n",
      "                 all         139           0           0           0           0           0\n",
      "\n",
      "     Epoch   gpu_mem       box       obj       cls     total   targets  img_size\n",
      "     6/119      1.7G   0.08649    0.0159   0.03618    0.1386        23       416: 100% 31/31 [00:12<00:00,  2.41it/s]\n",
      "               Class      Images     Targets           P           R      mAP@.5  mAP@.5:.95: 100% 5/5 [00:01<00:00,  2.97it/s]\n",
      "                 all         139           0           0           0           0           0\n",
      "\n",
      "     Epoch   gpu_mem       box       obj       cls     total   targets  img_size\n",
      "     7/119      1.7G   0.08905   0.01645   0.03716    0.1427        26       416: 100% 31/31 [00:12<00:00,  2.40it/s]\n",
      "               Class      Images     Targets           P           R      mAP@.5  mAP@.5:.95: 100% 5/5 [00:01<00:00,  3.02it/s]\n",
      "                 all         139           0           0           0           0           0\n",
      "\n",
      "     Epoch   gpu_mem       box       obj       cls     total   targets  img_size\n",
      "     8/119      1.7G   0.08655   0.01643   0.03554    0.1385        34       416: 100% 31/31 [00:12<00:00,  2.40it/s]\n",
      "               Class      Images     Targets           P           R      mAP@.5  mAP@.5:.95: 100% 5/5 [00:01<00:00,  2.98it/s]\n",
      "                 all         139           0           0           0           0           0\n",
      "\n",
      "     Epoch   gpu_mem       box       obj       cls     total   targets  img_size\n",
      "     9/119      1.7G    0.0875   0.01548   0.03584    0.1388        29       416: 100% 31/31 [00:12<00:00,  2.42it/s]\n",
      "               Class      Images     Targets           P           R      mAP@.5  mAP@.5:.95: 100% 5/5 [00:01<00:00,  2.94it/s]\n",
      "                 all         139           0           0           0           0           0\n",
      "\n",
      "     Epoch   gpu_mem       box       obj       cls     total   targets  img_size\n",
      "    10/119      1.7G   0.08372    0.0153   0.03448    0.1335        19       416: 100% 31/31 [00:12<00:00,  2.40it/s]\n",
      "               Class      Images     Targets           P           R      mAP@.5  mAP@.5:.95: 100% 5/5 [00:01<00:00,  2.89it/s]\n",
      "                 all         139           0           0           0           0           0\n",
      "\n",
      "     Epoch   gpu_mem       box       obj       cls     total   targets  img_size\n",
      "    11/119      1.7G   0.08302   0.01518   0.03416    0.1324        41       416: 100% 31/31 [00:12<00:00,  2.41it/s]\n",
      "               Class      Images     Targets           P           R      mAP@.5  mAP@.5:.95: 100% 5/5 [00:01<00:00,  2.93it/s]\n",
      "                 all         139           0           0           0           0           0\n",
      "\n",
      "     Epoch   gpu_mem       box       obj       cls     total   targets  img_size\n",
      "    12/119      1.7G   0.08079   0.01573   0.03425    0.1308        25       416: 100% 31/31 [00:12<00:00,  2.41it/s]\n",
      "               Class      Images     Targets           P           R      mAP@.5  mAP@.5:.95: 100% 5/5 [00:01<00:00,  2.87it/s]\n",
      "                 all         139           0           0           0           0           0\n",
      "\n",
      "     Epoch   gpu_mem       box       obj       cls     total   targets  img_size\n",
      "    13/119      1.7G   0.08201   0.01584   0.03407    0.1319        34       416: 100% 31/31 [00:12<00:00,  2.43it/s]\n",
      "               Class      Images     Targets           P           R      mAP@.5  mAP@.5:.95: 100% 5/5 [00:01<00:00,  2.89it/s]\n",
      "                 all         139           0           0           0           0           0\n",
      "\n",
      "     Epoch   gpu_mem       box       obj       cls     total   targets  img_size\n",
      "    14/119      1.7G    0.0838   0.01452   0.03404    0.1324        31       416: 100% 31/31 [00:12<00:00,  2.41it/s]\n",
      "               Class      Images     Targets           P           R      mAP@.5  mAP@.5:.95: 100% 5/5 [00:01<00:00,  2.93it/s]\n",
      "                 all         139           0           0           0           0           0\n",
      "\n",
      "     Epoch   gpu_mem       box       obj       cls     total   targets  img_size\n",
      "    15/119      1.7G   0.08663   0.01589   0.03506    0.1376        41       416: 100% 31/31 [00:12<00:00,  2.43it/s]\n",
      "               Class      Images     Targets           P           R      mAP@.5  mAP@.5:.95: 100% 5/5 [00:01<00:00,  2.87it/s]\n",
      "                 all         139         586       0.334     0.00216    2.58e-05    2.58e-06\n",
      "\n",
      "     Epoch   gpu_mem       box       obj       cls     total   targets  img_size\n",
      "    16/119      1.7G   0.08661   0.01502   0.03498    0.1366        49       416: 100% 31/31 [00:12<00:00,  2.45it/s]\n",
      "               Class      Images     Targets           P           R      mAP@.5  mAP@.5:.95: 100% 5/5 [00:01<00:00,  2.99it/s]\n",
      "                 all         139           0           0           0           0           0\n",
      "\n",
      "     Epoch   gpu_mem       box       obj       cls     total   targets  img_size\n",
      "    17/119      1.7G   0.08295   0.01612   0.03402    0.1331        22       416: 100% 31/31 [00:12<00:00,  2.47it/s]\n",
      "               Class      Images     Targets           P           R      mAP@.5  mAP@.5:.95: 100% 5/5 [00:01<00:00,  2.94it/s]\n",
      "                 all         139           0           0           0           0           0\n",
      "\n",
      "     Epoch   gpu_mem       box       obj       cls     total   targets  img_size\n",
      "    18/119      1.7G   0.08134    0.0145     0.033    0.1288        24       416: 100% 31/31 [00:12<00:00,  2.45it/s]\n",
      "               Class      Images     Targets           P           R      mAP@.5  mAP@.5:.95: 100% 5/5 [00:01<00:00,  3.02it/s]\n",
      "                 all         139         586    7.03e-06     0.00216    1.49e-07    1.49e-08\n",
      "\n",
      "     Epoch   gpu_mem       box       obj       cls     total   targets  img_size\n",
      "    19/119      1.7G   0.08672   0.01539   0.03436    0.1365        43       416: 100% 31/31 [00:12<00:00,  2.46it/s]\n",
      "               Class      Images     Targets           P           R      mAP@.5  mAP@.5:.95: 100% 5/5 [00:01<00:00,  3.03it/s]\n",
      "                 all         139           0           0           0           0           0\n",
      "\n",
      "     Epoch   gpu_mem       box       obj       cls     total   targets  img_size\n",
      "    20/119      1.7G   0.08644   0.01543   0.03435    0.1362        27       416: 100% 31/31 [00:12<00:00,  2.47it/s]\n",
      "               Class      Images     Targets           P           R      mAP@.5  mAP@.5:.95: 100% 5/5 [00:01<00:00,  3.02it/s]\n",
      "                 all         139           0           0           0           0           0\n",
      "\n",
      "     Epoch   gpu_mem       box       obj       cls     total   targets  img_size\n",
      "    21/119      1.7G   0.08546   0.01575    0.0341    0.1353        25       416: 100% 31/31 [00:12<00:00,  2.45it/s]\n",
      "               Class      Images     Targets           P           R      mAP@.5  mAP@.5:.95: 100% 5/5 [00:01<00:00,  3.00it/s]\n",
      "                 all         139           0           0           0           0           0\n",
      "\n",
      "     Epoch   gpu_mem       box       obj       cls     total   targets  img_size\n",
      "    22/119      1.7G   0.08411   0.01431   0.03507    0.1335        36       416: 100% 31/31 [00:12<00:00,  2.46it/s]\n",
      "               Class      Images     Targets           P           R      mAP@.5  mAP@.5:.95: 100% 5/5 [00:01<00:00,  2.99it/s]\n",
      "                 all         139         586    7.01e-06     0.00216    1.68e-07    1.68e-08\n",
      "\n",
      "     Epoch   gpu_mem       box       obj       cls     total   targets  img_size\n",
      "    23/119      1.7G   0.08267   0.01497   0.03393    0.1316        24       416: 100% 31/31 [00:12<00:00,  2.45it/s]\n",
      "               Class      Images     Targets           P           R      mAP@.5  mAP@.5:.95: 100% 5/5 [00:01<00:00,  2.98it/s]\n",
      "                 all         139           0           0           0           0           0\n",
      "\n",
      "     Epoch   gpu_mem       box       obj       cls     total   targets  img_size\n",
      "    24/119      1.7G   0.08233   0.01497   0.03365     0.131        27       416: 100% 31/31 [00:12<00:00,  2.44it/s]\n",
      "               Class      Images     Targets           P           R      mAP@.5  mAP@.5:.95: 100% 5/5 [00:01<00:00,  3.01it/s]\n",
      "                 all         139           0           0           0           0           0\n",
      "\n",
      "     Epoch   gpu_mem       box       obj       cls     total   targets  img_size\n",
      "    25/119      1.7G   0.08575   0.01495   0.03435    0.1351        26       416: 100% 31/31 [00:12<00:00,  2.44it/s]\n",
      "               Class      Images     Targets           P           R      mAP@.5  mAP@.5:.95: 100% 5/5 [00:01<00:00,  3.00it/s]\n",
      "                 all         139           0           0           0           0           0\n",
      "\n",
      "     Epoch   gpu_mem       box       obj       cls     total   targets  img_size\n",
      "    26/119      1.7G   0.08565   0.01486   0.03472    0.1352        40       416: 100% 31/31 [00:12<00:00,  2.45it/s]\n",
      "               Class      Images     Targets           P           R      mAP@.5  mAP@.5:.95: 100% 5/5 [00:01<00:00,  3.01it/s]\n",
      "                 all         139           0           0           0           0           0\n",
      "\n",
      "     Epoch   gpu_mem       box       obj       cls     total   targets  img_size\n",
      "    27/119      1.7G   0.08431   0.01517   0.03385    0.1333        18       416: 100% 31/31 [00:12<00:00,  2.47it/s]\n",
      "               Class      Images     Targets           P           R      mAP@.5  mAP@.5:.95: 100% 5/5 [00:01<00:00,  3.03it/s]\n",
      "                 all         139           0           0           0           0           0\n",
      "\n",
      "     Epoch   gpu_mem       box       obj       cls     total   targets  img_size\n",
      "    28/119      1.7G   0.08713   0.01483   0.03651    0.1385        27       416: 100% 31/31 [00:12<00:00,  2.45it/s]\n",
      "               Class      Images     Targets           P           R      mAP@.5  mAP@.5:.95: 100% 5/5 [00:01<00:00,  3.60it/s]\n",
      "                 all         139           0           0           0           0           0\n",
      "\n",
      "     Epoch   gpu_mem       box       obj       cls     total   targets  img_size\n",
      "    29/119      1.7G   0.08485   0.01581   0.03388    0.1346        27       416: 100% 31/31 [00:12<00:00,  2.45it/s]\n",
      "               Class      Images     Targets           P           R      mAP@.5  mAP@.5:.95: 100% 5/5 [00:01<00:00,  3.90it/s]\n",
      "                 all         139           0           0           0           0           0\n",
      "\n",
      "     Epoch   gpu_mem       box       obj       cls     total   targets  img_size\n",
      "    30/119      1.7G   0.08282   0.01425   0.03394     0.131        34       416: 100% 31/31 [00:12<00:00,  2.46it/s]\n",
      "               Class      Images     Targets           P           R      mAP@.5  mAP@.5:.95: 100% 5/5 [00:01<00:00,  3.95it/s]\n",
      "                 all         139           0           0           0           0           0\n",
      "\n",
      "     Epoch   gpu_mem       box       obj       cls     total   targets  img_size\n",
      "    31/119      1.7G   0.08306   0.01478   0.03346    0.1313        36       416: 100% 31/31 [00:12<00:00,  2.47it/s]\n",
      "               Class      Images     Targets           P           R      mAP@.5  mAP@.5:.95: 100% 5/5 [00:01<00:00,  3.90it/s]\n",
      "                 all         139           0           0           0           0           0\n",
      "\n",
      "     Epoch   gpu_mem       box       obj       cls     total   targets  img_size\n",
      "    32/119      1.7G   0.08684   0.01433   0.03348    0.1346        29       416: 100% 31/31 [00:12<00:00,  2.47it/s]\n",
      "               Class      Images     Targets           P           R      mAP@.5  mAP@.5:.95: 100% 5/5 [00:01<00:00,  3.94it/s]\n",
      "                 all         139           0           0           0           0           0\n",
      "\n",
      "     Epoch   gpu_mem       box       obj       cls     total   targets  img_size\n",
      "    33/119      1.7G   0.08152   0.01465   0.03265    0.1288        29       416: 100% 31/31 [00:12<00:00,  2.46it/s]\n",
      "               Class      Images     Targets           P           R      mAP@.5  mAP@.5:.95: 100% 5/5 [00:01<00:00,  3.01it/s]\n",
      "                 all         139           0           0           0           0           0\n",
      "\n",
      "     Epoch   gpu_mem       box       obj       cls     total   targets  img_size\n",
      "    34/119      1.7G   0.08278   0.01546    0.0328     0.131        36       416: 100% 31/31 [00:12<00:00,  2.46it/s]\n",
      "               Class      Images     Targets           P           R      mAP@.5  mAP@.5:.95: 100% 5/5 [00:01<00:00,  3.19it/s]\n",
      "                 all         139           0           0           0           0           0\n",
      "\n",
      "     Epoch   gpu_mem       box       obj       cls     total   targets  img_size\n",
      "    35/119      1.7G   0.08194   0.01424   0.03273    0.1289        32       416: 100% 31/31 [00:12<00:00,  2.48it/s]\n",
      "               Class      Images     Targets           P           R      mAP@.5  mAP@.5:.95: 100% 5/5 [00:01<00:00,  3.01it/s]\n",
      "                 all         139           0           0           0           0           0\n",
      "\n",
      "     Epoch   gpu_mem       box       obj       cls     total   targets  img_size\n",
      "    36/119      1.7G   0.08143   0.01472   0.03166    0.1278        32       416: 100% 31/31 [00:12<00:00,  2.47it/s]\n",
      "               Class      Images     Targets           P           R      mAP@.5  mAP@.5:.95: 100% 5/5 [00:01<00:00,  3.04it/s]\n",
      "                 all         139           0           0           0           0           0\n",
      "\n",
      "     Epoch   gpu_mem       box       obj       cls     total   targets  img_size\n",
      "    37/119      1.7G    0.0823   0.01492   0.03208    0.1293        22       416: 100% 31/31 [00:12<00:00,  2.45it/s]\n",
      "               Class      Images     Targets           P           R      mAP@.5  mAP@.5:.95: 100% 5/5 [00:01<00:00,  3.17it/s]\n",
      "                 all         139         586    0.000416     0.00375    3.37e-05    7.73e-06\n",
      "\n",
      "     Epoch   gpu_mem       box       obj       cls     total   targets  img_size\n",
      "    38/119      1.7G      0.08   0.01501   0.03189    0.1269        34       416: 100% 31/31 [00:12<00:00,  2.47it/s]\n",
      "               Class      Images     Targets           P           R      mAP@.5  mAP@.5:.95: 100% 5/5 [00:01<00:00,  3.08it/s]\n",
      "                 all         139         586    0.000113     0.00749    1.71e-05     5.7e-06\n",
      "\n",
      "     Epoch   gpu_mem       box       obj       cls     total   targets  img_size\n",
      "    39/119      1.7G   0.07971   0.01438   0.03167    0.1258        19       416: 100% 31/31 [00:12<00:00,  2.48it/s]\n",
      "               Class      Images     Targets           P           R      mAP@.5  mAP@.5:.95: 100% 5/5 [00:01<00:00,  2.97it/s]\n",
      "                 all         139         586    0.000129      0.0169    2.81e-05    7.65e-06\n",
      "\n",
      "     Epoch   gpu_mem       box       obj       cls     total   targets  img_size\n",
      "    40/119      1.7G   0.08279   0.01543   0.03248    0.1307        30       416: 100% 31/31 [00:12<00:00,  2.46it/s]\n",
      "               Class      Images     Targets           P           R      mAP@.5  mAP@.5:.95: 100% 5/5 [00:01<00:00,  3.01it/s]\n",
      "                 all         139         586    0.000559     0.00562    6.84e-05     1.1e-05\n",
      "\n",
      "     Epoch   gpu_mem       box       obj       cls     total   targets  img_size\n",
      "    41/119      1.7G   0.08226   0.01532   0.03267    0.1303        43       416: 100% 31/31 [00:12<00:00,  2.47it/s]\n",
      "               Class      Images     Targets           P           R      mAP@.5  mAP@.5:.95: 100% 5/5 [00:01<00:00,  3.01it/s]\n",
      "                 all         139         586       0.334      0.0187    0.000121    3.95e-05\n",
      "\n",
      "     Epoch   gpu_mem       box       obj       cls     total   targets  img_size\n",
      "    42/119      1.7G    0.0821   0.01438   0.03393    0.1304        38       416: 100% 31/31 [00:12<00:00,  2.45it/s]\n",
      "               Class      Images     Targets           P           R      mAP@.5  mAP@.5:.95: 100% 5/5 [00:01<00:00,  3.00it/s]\n",
      "                 all         139         586     0.00512      0.0246    0.000161    4.69e-05\n",
      "\n",
      "     Epoch   gpu_mem       box       obj       cls     total   targets  img_size\n",
      "    43/119      1.7G    0.0828   0.01514   0.03196    0.1299        21       416: 100% 31/31 [00:12<00:00,  2.46it/s]\n",
      "               Class      Images     Targets           P           R      mAP@.5  mAP@.5:.95: 100% 5/5 [00:01<00:00,  2.98it/s]\n",
      "                 all         139         586       0.334     0.00749    8.16e-05     1.2e-05\n",
      "\n",
      "     Epoch   gpu_mem       box       obj       cls     total   targets  img_size\n",
      "    44/119      1.7G   0.08342   0.01527   0.03269    0.1314        24       416: 100% 31/31 [00:12<00:00,  2.45it/s]\n",
      "               Class      Images     Targets           P           R      mAP@.5  mAP@.5:.95: 100% 5/5 [00:01<00:00,  2.93it/s]\n",
      "                 all         139         586       0.334      0.0243    0.000112    1.66e-05\n",
      "\n",
      "     Epoch   gpu_mem       box       obj       cls     total   targets  img_size\n",
      "    45/119      1.7G   0.08133   0.01541   0.03127     0.128        35       416: 100% 31/31 [00:12<00:00,  2.45it/s]\n",
      "               Class      Images     Targets           P           R      mAP@.5  mAP@.5:.95: 100% 5/5 [00:01<00:00,  2.87it/s]\n",
      "                 all         139         586       0.835     0.00125    0.000136    1.71e-05\n",
      "\n",
      "     Epoch   gpu_mem       box       obj       cls     total   targets  img_size\n",
      "    46/119      1.7G   0.08457    0.0149   0.03145    0.1309        45       416: 100% 31/31 [00:12<00:00,  2.45it/s]\n",
      "               Class      Images     Targets           P           R      mAP@.5  mAP@.5:.95: 100% 5/5 [00:01<00:00,  2.81it/s]\n",
      "                 all         139         586       0.836     0.00562    0.000288    5.17e-05\n",
      "\n",
      "     Epoch   gpu_mem       box       obj       cls     total   targets  img_size\n",
      "    47/119      1.7G    0.0798   0.01579   0.03006    0.1256        24       416: 100% 31/31 [00:12<00:00,  2.47it/s]\n",
      "               Class      Images     Targets           P           R      mAP@.5  mAP@.5:.95: 100% 5/5 [00:01<00:00,  2.71it/s]\n",
      "                 all         139         586       0.866     0.00936      0.0083     0.00282\n",
      "\n",
      "     Epoch   gpu_mem       box       obj       cls     total   targets  img_size\n",
      "    48/119      1.7G   0.07871   0.01538   0.02977    0.1239        30       416: 100% 31/31 [00:12<00:00,  2.46it/s]\n",
      "               Class      Images     Targets           P           R      mAP@.5  mAP@.5:.95: 100% 5/5 [00:01<00:00,  2.78it/s]\n",
      "                 all         139         586        0.85     0.00749     0.00423    0.000624\n",
      "\n",
      "     Epoch   gpu_mem       box       obj       cls     total   targets  img_size\n",
      "    49/119      1.7G   0.07801    0.0165   0.02888    0.1234        35       416: 100% 31/31 [00:12<00:00,  2.46it/s]\n",
      "               Class      Images     Targets           P           R      mAP@.5  mAP@.5:.95: 100% 5/5 [00:01<00:00,  2.51it/s]\n",
      "                 all         139         586       0.877      0.0187      0.0127     0.00283\n",
      "\n",
      "     Epoch   gpu_mem       box       obj       cls     total   targets  img_size\n",
      "    50/119      1.7G   0.07637   0.01541   0.02898    0.1208        15       416: 100% 31/31 [00:12<00:00,  2.46it/s]\n",
      "               Class      Images     Targets           P           R      mAP@.5  mAP@.5:.95: 100% 5/5 [00:02<00:00,  2.35it/s]\n",
      "                 all         139         586       0.843     0.00936     0.00234    0.000418\n",
      "\n",
      "     Epoch   gpu_mem       box       obj       cls     total   targets  img_size\n",
      "    51/119      1.7G   0.08615   0.01584   0.03131    0.1333        45       416: 100% 31/31 [00:12<00:00,  2.44it/s]\n",
      "               Class      Images     Targets           P           R      mAP@.5  mAP@.5:.95: 100% 5/5 [00:01<00:00,  3.01it/s]\n",
      "                 all         139         586       0.854       0.015     0.00733     0.00174\n",
      "\n",
      "     Epoch   gpu_mem       box       obj       cls     total   targets  img_size\n",
      "    52/119      1.7G   0.07639    0.0156   0.02911    0.1211        32       416: 100% 31/31 [00:12<00:00,  2.48it/s]\n",
      "               Class      Images     Targets           P           R      mAP@.5  mAP@.5:.95: 100% 5/5 [00:01<00:00,  3.01it/s]\n",
      "                 all         139         586       0.893      0.0131      0.0121     0.00297\n",
      "\n",
      "     Epoch   gpu_mem       box       obj       cls     total   targets  img_size\n",
      "    53/119      1.7G   0.08091    0.0157   0.03092    0.1275        32       416: 100% 31/31 [00:12<00:00,  2.46it/s]\n",
      "               Class      Images     Targets           P           R      mAP@.5  mAP@.5:.95: 100% 5/5 [00:01<00:00,  2.77it/s]\n",
      "                 all         139         586       0.849      0.0225      0.0084     0.00149\n",
      "\n",
      "     Epoch   gpu_mem       box       obj       cls     total   targets  img_size\n",
      "    54/119      1.7G   0.07548   0.01552   0.02798     0.119        16       416: 100% 31/31 [00:12<00:00,  2.46it/s]\n",
      "               Class      Images     Targets           P           R      mAP@.5  mAP@.5:.95: 100% 5/5 [00:01<00:00,  2.85it/s]\n",
      "                 all         139         586       0.896      0.0281      0.0258     0.00482\n",
      "\n",
      "     Epoch   gpu_mem       box       obj       cls     total   targets  img_size\n",
      "    55/119      1.7G   0.07303   0.01572   0.02701    0.1158        21       416: 100% 31/31 [00:12<00:00,  2.47it/s]\n",
      "               Class      Images     Targets           P           R      mAP@.5  mAP@.5:.95: 100% 5/5 [00:01<00:00,  2.64it/s]\n",
      "                 all         139         586        0.92      0.0243      0.0239       0.005\n",
      "\n",
      "     Epoch   gpu_mem       box       obj       cls     total   targets  img_size\n",
      "    56/119      1.7G   0.07548   0.01501   0.02762    0.1181        36       416: 100% 31/31 [00:12<00:00,  2.46it/s]\n",
      "               Class      Images     Targets           P           R      mAP@.5  mAP@.5:.95: 100% 5/5 [00:01<00:00,  2.85it/s]\n",
      "                 all         139         586       0.904      0.0581      0.0461      0.0125\n",
      "\n",
      "     Epoch   gpu_mem       box       obj       cls     total   targets  img_size\n",
      "    57/119      1.7G    0.0726   0.01615    0.0262     0.115        21       416: 100% 31/31 [00:12<00:00,  2.46it/s]\n",
      "               Class      Images     Targets           P           R      mAP@.5  mAP@.5:.95: 100% 5/5 [00:01<00:00,  2.72it/s]\n",
      "                 all         139         586        0.89      0.0674      0.0381     0.00924\n",
      "\n",
      "     Epoch   gpu_mem       box       obj       cls     total   targets  img_size\n",
      "    58/119      1.7G   0.08032   0.01565    0.0289    0.1249        26       416: 100% 31/31 [00:12<00:00,  2.46it/s]\n",
      "               Class      Images     Targets           P           R      mAP@.5  mAP@.5:.95: 100% 5/5 [00:01<00:00,  2.90it/s]\n",
      "                 all         139         586       0.944      0.0693      0.0692      0.0184\n",
      "\n",
      "     Epoch   gpu_mem       box       obj       cls     total   targets  img_size\n",
      "    59/119      1.7G   0.07952   0.01553   0.02903    0.1241        22       416: 100% 31/31 [00:12<00:00,  2.46it/s]\n",
      "               Class      Images     Targets           P           R      mAP@.5  mAP@.5:.95: 100% 5/5 [00:02<00:00,  2.44it/s]\n",
      "                 all         139         586       0.722      0.0205      0.0153     0.00274\n",
      "\n",
      "     Epoch   gpu_mem       box       obj       cls     total   targets  img_size\n",
      "    60/119      1.7G    0.0735   0.01539   0.02778    0.1167        23       416: 100% 31/31 [00:12<00:00,  2.46it/s]\n",
      "               Class      Images     Targets           P           R      mAP@.5  mAP@.5:.95: 100% 5/5 [00:01<00:00,  2.81it/s]\n",
      "                 all         139         586       0.933      0.0749      0.0728      0.0181\n",
      "\n",
      "     Epoch   gpu_mem       box       obj       cls     total   targets  img_size\n",
      "    61/119      1.7G   0.07355   0.01551     0.027    0.1161        28       416: 100% 31/31 [00:12<00:00,  2.47it/s]\n",
      "               Class      Images     Targets           P           R      mAP@.5  mAP@.5:.95: 100% 5/5 [00:01<00:00,  2.79it/s]\n",
      "                 all         139         586       0.926       0.084      0.0749      0.0205\n",
      "\n",
      "     Epoch   gpu_mem       box       obj       cls     total   targets  img_size\n",
      "    62/119      1.7G   0.07693   0.01485   0.02784    0.1196        18       416: 100% 31/31 [00:12<00:00,  2.46it/s]\n",
      "               Class      Images     Targets           P           R      mAP@.5  mAP@.5:.95: 100% 5/5 [00:01<00:00,  2.66it/s]\n",
      "                 all         139         586       0.927      0.0768      0.0682      0.0155\n",
      "\n",
      "     Epoch   gpu_mem       box       obj       cls     total   targets  img_size\n",
      "    63/119      1.7G   0.07613   0.01557   0.02744    0.1191        50       416: 100% 31/31 [00:12<00:00,  2.46it/s]\n",
      "               Class      Images     Targets           P           R      mAP@.5  mAP@.5:.95: 100% 5/5 [00:01<00:00,  2.76it/s]\n",
      "                 all         139         586       0.911       0.105        0.08      0.0172\n",
      "\n",
      "     Epoch   gpu_mem       box       obj       cls     total   targets  img_size\n",
      "    64/119      1.7G    0.0757   0.01571   0.02899    0.1204        29       416: 100% 31/31 [00:12<00:00,  2.46it/s]\n",
      "               Class      Images     Targets           P           R      mAP@.5  mAP@.5:.95: 100% 5/5 [00:01<00:00,  2.74it/s]\n",
      "                 all         139         586       0.885      0.0653      0.0308     0.00561\n",
      "\n",
      "     Epoch   gpu_mem       box       obj       cls     total   targets  img_size\n",
      "    65/119      1.7G   0.07499   0.01555   0.02836    0.1189        28       416: 100% 31/31 [00:12<00:00,  2.46it/s]\n",
      "               Class      Images     Targets           P           R      mAP@.5  mAP@.5:.95: 100% 5/5 [00:01<00:00,  2.80it/s]\n",
      "                 all         139         586       0.894        0.11      0.0692      0.0179\n",
      "\n",
      "     Epoch   gpu_mem       box       obj       cls     total   targets  img_size\n",
      "    66/119      1.7G   0.07435   0.01535   0.02674    0.1164        30       416: 100% 31/31 [00:12<00:00,  2.46it/s]\n",
      "               Class      Images     Targets           P           R      mAP@.5  mAP@.5:.95: 100% 5/5 [00:01<00:00,  2.89it/s]\n",
      "                 all         139         586       0.913       0.088      0.0763      0.0197\n",
      "\n",
      "     Epoch   gpu_mem       box       obj       cls     total   targets  img_size\n",
      "    67/119      1.7G   0.07218   0.01536   0.02676    0.1143        26       416: 100% 31/31 [00:12<00:00,  2.48it/s]\n",
      "               Class      Images     Targets           P           R      mAP@.5  mAP@.5:.95: 100% 5/5 [00:01<00:00,  2.69it/s]\n",
      "                 all         139         586        0.97      0.0674      0.0856      0.0247\n",
      "\n",
      "     Epoch   gpu_mem       box       obj       cls     total   targets  img_size\n",
      "    68/119      1.7G   0.07233   0.01588   0.02679     0.115        38       416: 100% 31/31 [00:12<00:00,  2.48it/s]\n",
      "               Class      Images     Targets           P           R      mAP@.5  mAP@.5:.95: 100% 5/5 [00:01<00:00,  2.79it/s]\n",
      "                 all         139         586       0.955      0.0712      0.0911      0.0301\n",
      "\n",
      "     Epoch   gpu_mem       box       obj       cls     total   targets  img_size\n",
      "    69/119      1.7G   0.07426   0.01565    0.0266    0.1165        36       416: 100% 31/31 [00:12<00:00,  2.46it/s]\n",
      "               Class      Images     Targets           P           R      mAP@.5  mAP@.5:.95: 100% 5/5 [00:01<00:00,  2.63it/s]\n",
      "                 all         139         586       0.889      0.0824      0.0551      0.0159\n",
      "\n",
      "     Epoch   gpu_mem       box       obj       cls     total   targets  img_size\n",
      "    70/119      1.7G   0.07178   0.01613    0.0258    0.1137        36       416: 100% 31/31 [00:12<00:00,  2.47it/s]\n",
      "               Class      Images     Targets           P           R      mAP@.5  mAP@.5:.95: 100% 5/5 [00:01<00:00,  2.75it/s]\n",
      "                 all         139         586       0.942      0.0805      0.0793       0.022\n",
      "\n",
      "     Epoch   gpu_mem       box       obj       cls     total   targets  img_size\n",
      "    71/119      1.7G   0.07784   0.01576   0.02713    0.1207        28       416: 100% 31/31 [00:12<00:00,  2.47it/s]\n",
      "               Class      Images     Targets           P           R      mAP@.5  mAP@.5:.95: 100% 5/5 [00:01<00:00,  2.77it/s]\n",
      "                 all         139         586       0.951       0.103      0.0978      0.0252\n",
      "\n",
      "     Epoch   gpu_mem       box       obj       cls     total   targets  img_size\n",
      "    72/119      1.7G   0.06895   0.01565   0.02535      0.11        26       416: 100% 31/31 [00:12<00:00,  2.49it/s]\n",
      "               Class      Images     Targets           P           R      mAP@.5  mAP@.5:.95: 100% 5/5 [00:01<00:00,  2.65it/s]\n",
      "                 all         139         586        0.94       0.109      0.0954      0.0264\n",
      "\n",
      "     Epoch   gpu_mem       box       obj       cls     total   targets  img_size\n",
      "    73/119      1.7G   0.07231   0.01551   0.02699    0.1148        21       416: 100% 31/31 [00:12<00:00,  2.48it/s]\n",
      "               Class      Images     Targets           P           R      mAP@.5  mAP@.5:.95: 100% 5/5 [00:02<00:00,  2.36it/s]\n",
      "                 all         139         586       0.913       0.103      0.0872      0.0232\n",
      "\n",
      "     Epoch   gpu_mem       box       obj       cls     total   targets  img_size\n",
      "    74/119      1.7G   0.07258   0.01566   0.02833    0.1166        21       416: 100% 31/31 [00:12<00:00,  2.45it/s]\n",
      "               Class      Images     Targets           P           R      mAP@.5  mAP@.5:.95: 100% 5/5 [00:01<00:00,  2.81it/s]\n",
      "                 all         139         586       0.968       0.127       0.135      0.0392\n",
      "\n",
      "     Epoch   gpu_mem       box       obj       cls     total   targets  img_size\n",
      "    75/119      1.7G   0.06742   0.01533   0.02528     0.108        29       416: 100% 31/31 [00:12<00:00,  2.49it/s]\n",
      "               Class      Images     Targets           P           R      mAP@.5  mAP@.5:.95: 100% 5/5 [00:01<00:00,  2.67it/s]\n",
      "                 all         139         586       0.948       0.109       0.107       0.036\n",
      "\n",
      "     Epoch   gpu_mem       box       obj       cls     total   targets  img_size\n",
      "    76/119      1.7G   0.07063   0.01583   0.02688    0.1133        35       416: 100% 31/31 [00:12<00:00,  2.47it/s]\n",
      "               Class      Images     Targets           P           R      mAP@.5  mAP@.5:.95: 100% 5/5 [00:01<00:00,  2.60it/s]\n",
      "                 all         139         586       0.977       0.107       0.127      0.0374\n",
      "\n",
      "     Epoch   gpu_mem       box       obj       cls     total   targets  img_size\n",
      "    77/119      1.7G   0.07412   0.01537   0.02747     0.117        20       416: 100% 31/31 [00:12<00:00,  2.46it/s]\n",
      "               Class      Images     Targets           P           R      mAP@.5  mAP@.5:.95: 100% 5/5 [00:01<00:00,  2.90it/s]\n",
      "                 all         139         586       0.944       0.117       0.114      0.0367\n",
      "\n",
      "     Epoch   gpu_mem       box       obj       cls     total   targets  img_size\n",
      "    78/119      1.7G   0.07048   0.01539   0.02598    0.1119        11       416: 100% 31/31 [00:12<00:00,  2.46it/s]\n",
      "               Class      Images     Targets           P           R      mAP@.5  mAP@.5:.95: 100% 5/5 [00:01<00:00,  2.56it/s]\n",
      "                 all         139         586       0.958       0.116       0.122      0.0413\n",
      "\n",
      "     Epoch   gpu_mem       box       obj       cls     total   targets  img_size\n",
      "    79/119      1.7G   0.07142   0.01612    0.0265     0.114        36       416: 100% 31/31 [00:12<00:00,  2.47it/s]\n",
      "               Class      Images     Targets           P           R      mAP@.5  mAP@.5:.95: 100% 5/5 [00:01<00:00,  2.60it/s]\n",
      "                 all         139         586       0.947        0.12       0.111       0.034\n",
      "\n",
      "     Epoch   gpu_mem       box       obj       cls     total   targets  img_size\n",
      "    80/119      1.7G    0.0684   0.01529   0.02543    0.1091        28       416: 100% 31/31 [00:12<00:00,  2.47it/s]\n",
      "               Class      Images     Targets           P           R      mAP@.5  mAP@.5:.95: 100% 5/5 [00:01<00:00,  2.77it/s]\n",
      "                 all         139         586       0.931      0.0824      0.0711      0.0145\n",
      "\n",
      "     Epoch   gpu_mem       box       obj       cls     total   targets  img_size\n",
      "    81/119      1.7G   0.06923   0.01578   0.02711    0.1121        50       416: 100% 31/31 [00:12<00:00,  2.46it/s]\n",
      "               Class      Images     Targets           P           R      mAP@.5  mAP@.5:.95: 100% 5/5 [00:01<00:00,  2.80it/s]\n",
      "                 all         139         586       0.939       0.112       0.107      0.0374\n",
      "\n",
      "     Epoch   gpu_mem       box       obj       cls     total   targets  img_size\n",
      "    82/119      1.7G   0.06698   0.01605   0.02499     0.108        31       416: 100% 31/31 [00:12<00:00,  2.47it/s]\n",
      "               Class      Images     Targets           P           R      mAP@.5  mAP@.5:.95:  40% 2/5 [00:00<00:01,  2.32it/s]\n",
      "Traceback (most recent call last):\n",
      "  File \"train.py\", line 531, in <module>\n",
      "    train(hyp, opt, device, tb_writer, wandb)\n",
      "  File \"train.py\", line 356, in train\n",
      "    compute_loss=compute_loss)\n",
      "  File \"/content/yolov5/test.py\", line 110, in test\n",
      "    out, train_out = model(img, augment=augment)  # inference and training outputs\n",
      "  File \"/usr/local/lib/python3.7/dist-packages/torch/nn/modules/module.py\", line 1102, in _call_impl\n",
      "  File \"/content/yolov5/models/yolo.py\", line 121, in forward\n",
      "    return self.forward_once(x, profile)  # single-scale inference, train\n",
      "  File \"/content/yolov5/models/yolo.py\", line 137, in forward_once\n",
      "    x = m(x)  # run\n",
      "  File \"/usr/local/lib/python3.7/dist-packages/torch/nn/modules/module.py\", line 1102, in _call_impl\n",
      "    return forward_call(*input, **kwargs)\n",
      "  File \"/content/yolov5/models/common.py\", line 88, in forward\n",
      "    return self.cv3(torch.cat((self.m(self.cv1(x)), self.cv2(x)), dim=1))\n",
      "  File \"/usr/local/lib/python3.7/dist-packages/torch/nn/modules/module.py\", line 1102, in _call_impl\n",
      "    return forward_call(*input, **kwargs)\n",
      "  File \"/usr/local/lib/python3.7/dist-packages/torch/nn/modules/container.py\", line 141, in forward\n",
      "    input = module(input)\n",
      "  File \"/usr/local/lib/python3.7/dist-packages/torch/nn/modules/module.py\", line 1102, in _call_impl\n",
      "    return forward_call(*input, **kwargs)\n",
      "  File \"/content/yolov5/models/common.py\", line 54, in forward\n",
      "    return x + self.cv2(self.cv1(x)) if self.add else self.cv2(self.cv1(x))\n",
      "  File \"/usr/local/lib/python3.7/dist-packages/torch/nn/modules/module.py\", line 1102, in _call_impl\n",
      "    return forward_call(*input, **kwargs)\n",
      "  File \"/content/yolov5/models/common.py\", line 38, in forward\n",
      "    return self.act(self.bn(self.conv(x)))\n",
      "  File \"/usr/local/lib/python3.7/dist-packages/torch/nn/modules/module.py\", line 1102, in _call_impl\n",
      "    return forward_call(*input, **kwargs)\n",
      "  File \"/usr/local/lib/python3.7/dist-packages/torch/nn/modules/batchnorm.py\", line 179, in forward\n",
      "    self.eps,\n",
      "  File \"/usr/local/lib/python3.7/dist-packages/torch/nn/functional.py\", line 2283, in batch_norm\n",
      "    input, weight, bias, running_mean, running_var, training, momentum, eps, torch.backends.cudnn.enabled\n",
      "KeyboardInterrupt\n"
     ]
    },
    {
     "name": "stderr",
     "output_type": "stream",
     "text": [
      "ERROR:root:Internal Python error in the inspect module.\n",
      "Below is the traceback from this internal error.\n",
      "\n"
     ]
    },
    {
     "name": "stdout",
     "output_type": "stream",
     "text": [
      "Traceback (most recent call last):\n",
      "  File \"/usr/local/lib/python3.7/dist-packages/IPython/core/interactiveshell.py\", line 2882, in run_code\n",
      "    exec(code_obj, self.user_global_ns, self.user_ns)\n",
      "  File \"<ipython-input-11-e07afa66dfbf>\", line 1, in <module>\n",
      "    get_ipython().run_cell_magic('time', '', \"%cd /content/yolov5/\\n!python train.py --img 416 --batch 16 --epochs 120 --data {dataset.location}/data.yaml --cfg ./models/custom_yolov5s.yaml --weights '' --name yolov5s_results  --cache\")\n",
      "  File \"/usr/local/lib/python3.7/dist-packages/IPython/core/interactiveshell.py\", line 2117, in run_cell_magic\n",
      "    result = fn(magic_arg_s, cell)\n",
      "  File \"<decorator-gen-53>\", line 2, in time\n",
      "  File \"/usr/local/lib/python3.7/dist-packages/IPython/core/magic.py\", line 188, in <lambda>\n",
      "    call = lambda f, *a, **k: f(*a, **k)\n",
      "  File \"/usr/local/lib/python3.7/dist-packages/IPython/core/magics/execution.py\", line 1193, in time\n",
      "    exec(code, glob, local_ns)\n",
      "  File \"<timed exec>\", line 2, in <module>\n",
      "  File \"/usr/local/lib/python3.7/dist-packages/google/colab/_shell.py\", line 102, in system\n",
      "    output = _system_commands._system_compat(self, *args, **kwargs)  # pylint:disable=protected-access\n",
      "  File \"/usr/local/lib/python3.7/dist-packages/google/colab/_system_commands.py\", line 447, in _system_compat\n",
      "    shell.var_expand(cmd, depth=2), clear_streamed_output=False)\n",
      "  File \"/usr/local/lib/python3.7/dist-packages/google/colab/_system_commands.py\", line 199, in _run_command\n",
      "    return _monitor_process(parent_pty, epoll, p, cmd, update_stdin_widget)\n",
      "  File \"/usr/local/lib/python3.7/dist-packages/google/colab/_system_commands.py\", line 229, in _monitor_process\n",
      "    result = _poll_process(parent_pty, epoll, p, cmd, decoder, state)\n",
      "  File \"/usr/local/lib/python3.7/dist-packages/google/colab/_system_commands.py\", line 331, in _poll_process\n",
      "    time.sleep(0.1)\n",
      "KeyboardInterrupt\n",
      "\n",
      "During handling of the above exception, another exception occurred:\n",
      "\n",
      "Traceback (most recent call last):\n",
      "  File \"/usr/local/lib/python3.7/dist-packages/IPython/core/interactiveshell.py\", line 1823, in showtraceback\n",
      "    stb = value._render_traceback_()\n",
      "AttributeError: 'KeyboardInterrupt' object has no attribute '_render_traceback_'\n",
      "\n",
      "During handling of the above exception, another exception occurred:\n",
      "\n",
      "Traceback (most recent call last):\n",
      "  File \"/usr/local/lib/python3.7/dist-packages/IPython/core/ultratb.py\", line 1132, in get_records\n",
      "    return _fixed_getinnerframes(etb, number_of_lines_of_context, tb_offset)\n",
      "  File \"/usr/local/lib/python3.7/dist-packages/IPython/core/ultratb.py\", line 313, in wrapped\n",
      "    return f(*args, **kwargs)\n",
      "  File \"/usr/local/lib/python3.7/dist-packages/IPython/core/ultratb.py\", line 358, in _fixed_getinnerframes\n",
      "    records = fix_frame_records_filenames(inspect.getinnerframes(etb, context))\n",
      "  File \"/usr/lib/python3.7/inspect.py\", line 1502, in getinnerframes\n",
      "    frameinfo = (tb.tb_frame,) + getframeinfo(tb, context)\n",
      "  File \"/usr/lib/python3.7/inspect.py\", line 1460, in getframeinfo\n",
      "    filename = getsourcefile(frame) or getfile(frame)\n",
      "  File \"/usr/lib/python3.7/inspect.py\", line 696, in getsourcefile\n",
      "    if getattr(getmodule(object, filename), '__loader__', None) is not None:\n",
      "  File \"/usr/lib/python3.7/inspect.py\", line 742, in getmodule\n",
      "    os.path.realpath(f)] = module.__name__\n",
      "  File \"/usr/lib/python3.7/posixpath.py\", line 395, in realpath\n",
      "    path, ok = _joinrealpath(filename[:0], filename, {})\n",
      "  File \"/usr/lib/python3.7/posixpath.py\", line 429, in _joinrealpath\n",
      "    if not islink(newpath):\n",
      "  File \"/usr/lib/python3.7/posixpath.py\", line 171, in islink\n",
      "    st = os.lstat(path)\n",
      "KeyboardInterrupt\n"
     ]
    },
    {
     "ename": "KeyboardInterrupt",
     "evalue": "ignored",
     "output_type": "error",
     "traceback": [
      "\u001b[0;31m---------------------------------------------------------------------------\u001b[0m"
     ]
    }
   ],
   "source": [
    "# train yolov5s on custom data for 100 epochs\n",
    "# time its performance\n",
    "%%time\n",
    "%cd /content/yolov5/\n",
    "!python train.py --img 416 --batch 16 --epochs 120 --data {dataset.location}/data.yaml --cfg ./models/custom_yolov5s.yaml --weights '' --name yolov5s_results  --cache"
   ]
  },
  {
   "cell_type": "markdown",
   "metadata": {
    "id": "kJVs_4zEeVbF"
   },
   "source": [
    "# Evaluate Custom YOLOv5 Detector Performance"
   ]
  },
  {
   "cell_type": "markdown",
   "metadata": {
    "id": "7KN5ghjE6ZWh"
   },
   "source": [
    "Training losses and performance metrics are saved to Tensorboard and also to a logfile defined above with the **--name** flag when we train. In our case, we named this `yolov5s_results`. (If given no name, it defaults to `results.txt`.) The results file is plotted as a png after training completes.\n",
    "\n",
    "Note from Glenn: Partially completed `results.txt` files can be plotted with `from utils.utils import plot_results; plot_results()`."
   ]
  },
  {
   "cell_type": "code",
   "execution_count": null,
   "metadata": {
    "id": "bOy5KI2ncnWd"
   },
   "outputs": [],
   "source": [
    "# Start tensorboard\n",
    "# Launch after you have started training\n",
    "# logs save in the folder \"runs\"\n",
    "%load_ext tensorboard\n",
    "%tensorboard --logdir runs"
   ]
  },
  {
   "cell_type": "markdown",
   "metadata": {
    "id": "N3qM6T0W53gh"
   },
   "source": [
    "#Run Inference  With Trained Weights\n",
    "Run inference with a pretrained checkpoint on contents of `test/images` folder downloaded from Roboflow."
   ]
  },
  {
   "cell_type": "code",
   "execution_count": null,
   "metadata": {
    "id": "yIEwt5YLeQ7P"
   },
   "outputs": [],
   "source": [
    "# trained weights are saved by default in our weights folder\n",
    "%ls runs/"
   ]
  },
  {
   "cell_type": "code",
   "execution_count": null,
   "metadata": {
    "id": "4SyOWS80qR32"
   },
   "outputs": [],
   "source": [
    "%ls runs/train/yolov5s_results/weights"
   ]
  },
  {
   "cell_type": "code",
   "execution_count": null,
   "metadata": {
    "id": "9nmZZnWOgJ2S"
   },
   "outputs": [],
   "source": [
    "# when we ran this, we saw .007 second inference time. That is 140 FPS on a TESLA P100!\n",
    "# use the best weights!\n",
    "%cd /content/yolov5/\n",
    "!python detect.py --weights runs/train/yolov5s_results/weights/best.pt --img 416 --conf 0.7 --source /content/yolov5/deepstream-4/test/images"
   ]
  },
  {
   "cell_type": "code",
   "execution_count": null,
   "metadata": {
    "colab": {
     "background_save": true
    },
    "id": "odKEqYtTgbRc"
   },
   "outputs": [],
   "source": [
    "#display inference on ALL test images\n",
    "#this looks much better with longer training above\n",
    "\n",
    "import glob\n",
    "from IPython.display import Image, display\n",
    "\n",
    "for imageName in glob.glob('/content/yolov5/runs/detect/exp/*.jpg'): #assuming JPG\n",
    "    display(Image(filename=imageName))\n",
    "    print(\"\\n\")"
   ]
  },
  {
   "cell_type": "code",
   "execution_count": null,
   "metadata": {
    "id": "Syr6cP43OBUw"
   },
   "outputs": [],
   "source": [
    "!python3 gen_wts_yoloV5.py -w /content/yolov5/runs/train/yolov5s_results2/weights/best.pt -c /content/yolov5/models/custom_yolov5s.yaml"
   ]
  },
  {
   "cell_type": "markdown",
   "metadata": {
    "id": "_uPq9mVgiBql"
   },
   "source": [
    "# Export Trained Weights and cfg files for TensorRT Engine generation\n"
   ]
  },
  {
   "cell_type": "code",
   "execution_count": null,
   "metadata": {
    "id": "e8aIkgJjSVBB"
   },
   "outputs": [],
   "source": [
    "!zip -r ./pcb_defect_model3.zip /content/yolov5/runs/train/yolov5s_results/weights/"
   ]
  },
  {
   "cell_type": "code",
   "execution_count": null,
   "metadata": {
    "id": "1x_wg3VeiXMW"
   },
   "outputs": [],
   "source": [
    "%cp /content/yolov5/pcb_defect_model3.zip /content/drive/MyDrive/Deepstream"
   ]
  }
 ],
 "metadata": {
  "accelerator": "GPU",
  "colab": {
   "collapsed_sections": [],
   "name": "Custom_YoloV5_Deepstream_6.0",
   "provenance": []
  },
  "kernelspec": {
   "display_name": "Python 3 (ipykernel)",
   "language": "python",
   "name": "python3"
  },
  "language_info": {
   "codemirror_mode": {
    "name": "ipython",
    "version": 3
   },
   "file_extension": ".py",
   "mimetype": "text/x-python",
   "name": "python",
   "nbconvert_exporter": "python",
   "pygments_lexer": "ipython3",
   "version": "3.8.10"
  }
 },
 "nbformat": 4,
 "nbformat_minor": 1
}
